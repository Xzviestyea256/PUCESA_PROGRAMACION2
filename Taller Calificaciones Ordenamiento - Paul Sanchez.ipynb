{
 "cells": [
  {
   "cell_type": "markdown",
   "id": "f445cb10",
   "metadata": {},
   "source": [
    "Taller Práctico: Visualización y Gestión de Calificaciones\n"
   ]
  },
  {
   "cell_type": "markdown",
   "id": "9c56bd70",
   "metadata": {},
   "source": [
    "Nombre: Paul Sánchez                   \n",
    "Fecha: 2 de junio, 2025              \n",
    "Tema: Bisect y Sorted"
   ]
  },
  {
   "cell_type": "code",
   "execution_count": 38,
   "id": "0e01fe00",
   "metadata": {},
   "outputs": [
    {
     "name": "stdout",
     "output_type": "stream",
     "text": [
      "Notas originales: [2, 8, 7, 19, 13, 20, 10, 11, 16, 17, 1, 18, 12, 0, 14]\n"
     ]
    }
   ],
   "source": [
    "#Paso 1\n",
    "import bisect\n",
    "import random\n",
    "import time\n",
    "import matplotlib.pyplot as plt\n",
    "from tqdm import tqdm\n",
    "from IPython.display import clear_output\n",
    "import time as t\n",
    "notas = random.sample(range(0, 21),15)\n",
    "print(\"Notas originales:\", notas)"
   ]
  },
  {
   "cell_type": "code",
   "execution_count": 39,
   "id": "aa51ddd2",
   "metadata": {},
   "outputs": [
    {
     "data": {
      "image/png": "[encoded data removed]",
      "text/plain": [
       "<Figure size 640x480 with 1 Axes>"
      ]
     },
     "metadata": {},
     "output_type": "display_data"
    }
   ],
   "source": [
    "#Paso 2\n",
    "def bubble_sort_viz(lista, mostrar_pasos=False, pausa=0.3):\n",
    "    lista = lista.copy()\n",
    "\n",
    "    comparaciones = 0\n",
    "    intercambios = 0\n",
    "\n",
    "    n = len(lista)\n",
    "\n",
    "    pasos = []\n",
    "\n",
    "    for i in range(n):\n",
    "        for j in range(0, n - i - 1):\n",
    "            comparaciones += 1\n",
    "\n",
    "            if lista[j] > lista[j + 1]:\n",
    "                lista[j], lista[j + 1] = lista[j + 1], lista[j]\n",
    "                intercambios += 1\n",
    "                pasos.append(lista.copy())\n",
    "\n",
    "    return lista, comparaciones, intercambios, pasos\n",
    "\n",
    "def animar_bubble_sort(pasos):\n",
    "    for estado in pasos:\n",
    "        clear_output(wait=True)\n",
    "\n",
    "        plt.bar(range(len(estado)), estado, color='skyblue')\n",
    "\n",
    "        plt.title(\"Animación Bubble Sort\")\n",
    "        plt.xlabel(\"Índice\") \n",
    "        plt.ylabel(\"Valor\")  \n",
    "\n",
    "        plt.pause(0.3)\n",
    "\n",
    "    plt.show()\n",
    "\n",
    "\n",
    "_, _, _, pasos_animacion = bubble_sort_viz(notas, mostrar_pasos=True)\n",
    "\n",
    "animar_bubble_sort(pasos_animacion)\n"
   ]
  },
  {
   "cell_type": "code",
   "execution_count": 40,
   "id": "159dc65d",
   "metadata": {},
   "outputs": [
    {
     "data": {
      "image/png": "[encoded data removed]",
      "text/plain": [
       "<Figure size 800x400 with 1 Axes>"
      ]
     },
     "metadata": {},
     "output_type": "display_data"
    }
   ],
   "source": [
    "#Paso 3\n",
    "def animar_sorted_simulada(lista_original, pausa=0.2):\n",
    "    lista_sorted_final = sorted(lista_original)\n",
    "    pasos_sorted = []\n",
    "\n",
    "    lista_simulada = lista_original.copy()\n",
    "    for i in range(len(lista_sorted_final)):\n",
    "        if lista_simulada[i] != lista_sorted_final[i]:\n",
    "            lista_simulada[i] = lista_sorted_final[i]\n",
    "        pasos_sorted.append(lista_simulada.copy())\n",
    "\n",
    "    total_pasos = len(pasos_sorted)\n",
    "\n",
    "    for k in range(total_pasos):\n",
    "        clear_output(wait=True)\n",
    "\n",
    "        fig, ax = plt.subplots(figsize=(8, 4))  # Solo un gráfico\n",
    "\n",
    "        if k < len(pasos_sorted):\n",
    "            ax.bar(range(len(pasos_sorted[k])), pasos_sorted[k], color='lightgreen')\n",
    "            ax.set_title(f\"sorted() - Paso {k+1}\")\n",
    "            ax.set_ylim(0, max(lista_original) + 5)\n",
    "        else:\n",
    "            ax.bar(range(len(lista_sorted_final)), lista_sorted_final, color='lightgreen')\n",
    "            ax.set_title(\"sorted() - Final\")\n",
    "\n",
    "        plt.tight_layout()\n",
    "        plt.pause(pausa)\n",
    "\n",
    "    plt.show()\n",
    "\n",
    "animar_sorted_simulada(notas)"
   ]
  },
  {
   "cell_type": "code",
   "execution_count": 41,
   "id": "bad5555c",
   "metadata": {},
   "outputs": [
    {
     "name": "stdout",
     "output_type": "stream",
     "text": [
      "Lista despues de la nueva nota: [2, 8, 7, 19, 13, 20, 10, 11, 15, 16, 17, 1, 18, 12, 0, 14]\n"
     ]
    }
   ],
   "source": [
    "#Paso 4\n",
    "nueva_nota = 15\n",
    "bisect.insort(notas, nueva_nota)\n",
    "print(\"Lista despues de la nueva nota:\", notas)"
   ]
  },
  {
   "cell_type": "code",
   "execution_count": null,
   "id": "5ac69f63",
   "metadata": {},
   "outputs": [
    {
     "name": "stdout",
     "output_type": "stream",
     "text": [
      "La nota 10 no está en la lista.\n"
     ]
    }
   ],
   "source": [
    "#Paso 5\n",
    "nota_buscar = 10\n",
    "posicion = bisect.bisect_left(notas, nota_buscar)\n",
    "if posicion < len(notas) and notas[posicion] == nota_buscar:\n",
    "    print(f\"La nota {nota_buscar} se encuentra en la posición {posicion}\")\n",
    "else:\n",
    "    print(f\"La nota {nota_buscar} no está en la lista.\")\n",
    "    \n"
   ]
  },
  {
   "cell_type": "code",
   "execution_count": 43,
   "id": "580f460b",
   "metadata": {},
   "outputs": [],
   "source": [
    "#Paso 6: Conclusión Personal\n",
    "#¿Qué método te pareció más eficiente o claro para ordenar?\n",
    "    #Ambos métodos tienen un proceso claro, más aun con el gráfico, creo que la respuesta \n",
    "    #en cuanto eficiencia es obvia, sorted es mucho más efectivo que bubble sort.\n",
    "    \n",
    "#¿Crees que es util visualizar el proceso de ordenamiento?\n",
    "    #Si es muy útil, ya que a aquellos que estan aprendiendo sobre el tema (como yo en este\n",
    "    #caso) les sirve como una ayuda visual para entender de mejor manera lo que hace el sistema\n",
    "    #cuando ejecuta un método de ordenamiento.\n"
   ]
  }
 ],
 "metadata": {
  "kernelspec": {
   "display_name": "Python 3",
   "language": "python",
   "name": "python3"
  },
  "language_info": {
   "codemirror_mode": {
    "name": "ipython",
    "version": 3
   },
   "file_extension": ".py",
   "mimetype": "text/x-python",
   "name": "python",
   "nbconvert_exporter": "python",
   "pygments_lexer": "ipython3",
   "version": "3.12.3"
  }
 },
 "nbformat": 4,
 "nbformat_minor": 5
}
